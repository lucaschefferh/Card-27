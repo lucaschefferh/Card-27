{
 "cells": [
  {
   "cell_type": "code",
   "execution_count": 1,
   "id": "ff364acb-b4e5-4407-9746-2c96468c128a",
   "metadata": {},
   "outputs": [
    {
     "name": "stderr",
     "output_type": "stream",
     "text": [
      "2025-09-13 18:33:12.620755: I tensorflow/core/util/port.cc:153] oneDNN custom operations are on. You may see slightly different numerical results due to floating-point round-off errors from different computation orders. To turn them off, set the environment variable `TF_ENABLE_ONEDNN_OPTS=0`.\n",
      "2025-09-13 18:33:12.978017: I tensorflow/core/platform/cpu_feature_guard.cc:210] This TensorFlow binary is optimized to use available CPU instructions in performance-critical operations.\n",
      "To enable the following instructions: AVX2 AVX_VNNI FMA, in other operations, rebuild TensorFlow with the appropriate compiler flags.\n",
      "2025-09-13 18:33:15.014768: I tensorflow/core/util/port.cc:153] oneDNN custom operations are on. You may see slightly different numerical results due to floating-point round-off errors from different computation orders. To turn them off, set the environment variable `TF_ENABLE_ONEDNN_OPTS=0`.\n"
     ]
    },
    {
     "name": "stdout",
     "output_type": "stream",
     "text": [
      "Num GPUs Available:  1\n"
     ]
    }
   ],
   "source": [
    "#Importação das bibliotecas e confirmação da GPU.\n",
    "import tensorflow as tf\n",
    "import os\n",
    "import random\n",
    "import numpy as np\n",
    "\n",
    "print(\"Num GPUs Available: \", len(tf.config.list_physical_devices('GPU')))"
   ]
  },
  {
   "cell_type": "code",
   "execution_count": 2,
   "id": "c399f215-866c-40ed-a1c3-7592308267f7",
   "metadata": {},
   "outputs": [],
   "source": [
    "#Configuração de uma seed para tentar deixar os resultados parecidos.\n",
    "#Resultados não serão 100% iguais por motivos de que vai haver um treino utilizando a GPU o que é díficil de prever.\n",
    "SEED = 123456\n",
    "os.environ['PYTHONHASHSEED']=str(SEED)\n",
    "os.environ['TF_CUDNN_DETERMINISTIC'] = '1' \n",
    "random.seed(SEED)\n",
    "np.random.seed(SEED)\n",
    "tf.random.set_seed(SEED)"
   ]
  },
  {
   "cell_type": "markdown",
   "id": "0bb9bf6c-bfcc-49c2-9fdd-e988c1506eee",
   "metadata": {},
   "source": [
    "## Mostrando as classes do FashionMNIST o data set a ser utilizado."
   ]
  },
  {
   "cell_type": "markdown",
   "id": "47bd423c-d78e-4965-8de3-78a8f5e291a1",
   "metadata": {},
   "source": [
    "## Exploring the FashionMNIST data set ##\n",
    "\n",
    "FashionMNIST is like the handwriting recognition MNIST dataset we know and love, but with pictures of different kinds of clothes instead of pictures of people writing digits.\n",
    "\n",
    "<h2>Available Labels/Classes</h2>\n",
    "\n",
    "<table align=\"left\">\n",
    "<thead>\n",
    "<tr>\n",
    "<th align=\"center\">Label</th>\n",
    "<th>Description</th>\n",
    "</tr>\n",
    "</thead>\n",
    "<tbody>\n",
    "<tr>\n",
    "<td align=\"center\">0</td>\n",
    "<td>T-shirt/top</td>\n",
    "</tr>\n",
    "<tr>\n",
    "<td align=\"center\">1</td>\n",
    "<td>Trouser</td>\n",
    "</tr>\n",
    "<tr>\n",
    "<td align=\"center\">2</td>\n",
    "<td>Pullover</td>\n",
    "</tr>\n",
    "<tr>\n",
    "<td align=\"center\">3</td>\n",
    "<td>Dress</td>\n",
    "</tr>\n",
    "<tr>\n",
    "<td align=\"center\">4</td>\n",
    "<td>Coat</td>\n",
    "</tr>\n",
    "<tr>\n",
    "<td align=\"center\">5</td>\n",
    "<td>Sandal</td>\n",
    "</tr>\n",
    "<tr>\n",
    "<td align=\"center\">6</td>\n",
    "<td>Shirt</td>\n",
    "</tr>\n",
    "<tr>\n",
    "<td align=\"center\">7</td>\n",
    "<td>Sneaker</td>\n",
    "</tr>\n",
    "<tr>\n",
    "<td align=\"center\">8</td>\n",
    "<td>Bag</td>\n",
    "</tr>\n",
    "<tr>\n",
    "<td align=\"center\">9</td>\n",
    "<td>Ankle boot</td>\n",
    "</tr>\n",
    "</tbody>\n",
    "</table>"
   ]
  },
  {
   "cell_type": "code",
   "execution_count": 3,
   "id": "1be3f889-14bf-4169-bd59-193e7d705632",
   "metadata": {},
   "outputs": [],
   "source": [
    "#Carregamento base de dados e separação de dados de teste e treino\n",
    "from tensorflow.keras.datasets import fashion_mnist\n",
    "\n",
    "\n",
    "(x_train, y_train), (x_test, y_test) = fashion_mnist.load_data()\n",
    "assert x_train.shape == (60000, 28, 28)\n",
    "assert x_test.shape == (10000, 28, 28)\n",
    "assert y_train.shape == (60000,)\n",
    "assert y_test.shape == (10000,)"
   ]
  },
  {
   "cell_type": "code",
   "execution_count": 4,
   "id": "8df93989-cb34-4734-bca3-a17dc439cf18",
   "metadata": {},
   "outputs": [
    {
     "data": {
      "image/png": "[encoded data removed]",
      "text/plain": [
       "<Figure size 900x900 with 9 Axes>"
      ]
     },
     "metadata": {},
     "output_type": "display_data"
    }
   ],
   "source": [
    "#Plota de forma aleatória 9 imagens diferentes para conferir se está tudo certo\n",
    "import numpy as np\n",
    "from matplotlib import pyplot as plt\n",
    "\n",
    "plt.figure(figsize=(9, 9))\n",
    "\n",
    "rndSamples = np.random.choice(60000, 9)\n",
    "\n",
    "for i in range(9):\n",
    "    plt.subplot(3,3,i+1)\n",
    "    plt.imshow(x_train[rndSamples[i]], cmap=\"Greys_r\")\n",
    "    plt.axis('off')\n",
    "\n",
    "plt.show();"
   ]
  },
  {
   "cell_type": "code",
   "execution_count": 5,
   "id": "ef42d526-1171-4cdb-9402-5f9a6cbbb733",
   "metadata": {},
   "outputs": [],
   "source": [
    "#Concatenando os dados de treino e teste pois não vai ser usado para classificação e sim para criação de dados.\n",
    "#Pre processamento dos dados. Adicionando uma dimensão e normalizando entre 0 e 1.\n",
    "dataset = np.concatenate([x_train, x_test], axis=0)\n",
    "dataset = np.expand_dims(dataset, -1).astype(\"float32\") / 255"
   ]
  },
  {
   "cell_type": "code",
   "execution_count": 6,
   "id": "2cf9b031-8f1a-44d4-8977-ceb3c8d3980d",
   "metadata": {},
   "outputs": [],
   "source": [
    "#Configurando a camada de amostragem\n",
    "from tensorflow import keras\n",
    "from tensorflow.keras import layers\n",
    "\n",
    "\n",
    "# Create a sampling layer\n",
    "class SamplingLayer(layers.Layer):\n",
    "  \"\"\"Reparameterization Trick z = mu + sigma * epsilon\"\"\"\n",
    "\n",
    "  def call(self, inputs):\n",
    "    zMean, zLogVar = inputs\n",
    "    batch = tf.shape(zMean)[0]\n",
    "    dim = tf.shape(zMean)[1]\n",
    "    epsilon = tf.keras.backend.random_normal(shape=(batch, dim))\n",
    "    return zMean + tf.exp(0.5 * zLogVar) * epsilon"
   ]
  },
  {
   "cell_type": "code",
   "execution_count": 7,
   "id": "b2f7b688-2ce3-4f6d-866d-1d57de52c490",
   "metadata": {},
   "outputs": [
    {
     "name": "stderr",
     "output_type": "stream",
     "text": [
      "WARNING: All log messages before absl::InitializeLog() is called are written to STDERR\n",
      "I0000 00:00:1757799197.243554    6295 gpu_device.cc:2020] Created device /job:localhost/replica:0/task:0/device:GPU:0 with 4123 MB memory:  -> device: 0, name: NVIDIA GeForce RTX 3050 6GB Laptop GPU, pci bus id: 0000:01:00.0, compute capability: 8.6\n"
     ]
    },
    {
     "data": {
      "text/html": [
       "<pre style=\"white-space:pre;overflow-x:auto;line-height:normal;font-family:Menlo,'DejaVu Sans Mono',consolas,'Courier New',monospace\"><span style=\"font-weight: bold\">Model: \"encoder\"</span>\n",
       "</pre>\n"
      ],
      "text/plain": [
       "\u001b[1mModel: \"encoder\"\u001b[0m\n"
      ]
     },
     "metadata": {},
     "output_type": "display_data"
    },
    {
     "data": {
      "text/html": [
       "<pre style=\"white-space:pre;overflow-x:auto;line-height:normal;font-family:Menlo,'DejaVu Sans Mono',consolas,'Courier New',monospace\">┏━━━━━━━━━━━━━━━━━━━━━┳━━━━━━━━━━━━━━━━━━━┳━━━━━━━━━━━━┳━━━━━━━━━━━━━━━━━━━┓\n",
       "┃<span style=\"font-weight: bold\"> Layer (type)        </span>┃<span style=\"font-weight: bold\"> Output Shape      </span>┃<span style=\"font-weight: bold\">    Param # </span>┃<span style=\"font-weight: bold\"> Connected to      </span>┃\n",
       "┡━━━━━━━━━━━━━━━━━━━━━╇━━━━━━━━━━━━━━━━━━━╇━━━━━━━━━━━━╇━━━━━━━━━━━━━━━━━━━┩\n",
       "│ input_layer         │ (<span style=\"color: #00d7ff; text-decoration-color: #00d7ff\">None</span>, <span style=\"color: #00af00; text-decoration-color: #00af00\">28</span>, <span style=\"color: #00af00; text-decoration-color: #00af00\">28</span>, <span style=\"color: #00af00; text-decoration-color: #00af00\">1</span>) │          <span style=\"color: #00af00; text-decoration-color: #00af00\">0</span> │ -                 │\n",
       "│ (<span style=\"color: #0087ff; text-decoration-color: #0087ff\">InputLayer</span>)        │                   │            │                   │\n",
       "├─────────────────────┼───────────────────┼────────────┼───────────────────┤\n",
       "│ sequential          │ (<span style=\"color: #00d7ff; text-decoration-color: #00d7ff\">None</span>, <span style=\"color: #00af00; text-decoration-color: #00af00\">256</span>)       │    <span style=\"color: #00af00; text-decoration-color: #00af00\">878,144</span> │ input_layer[<span style=\"color: #00af00; text-decoration-color: #00af00\">0</span>][<span style=\"color: #00af00; text-decoration-color: #00af00\">0</span>] │\n",
       "│ (<span style=\"color: #0087ff; text-decoration-color: #0087ff\">Sequential</span>)        │                   │            │                   │\n",
       "├─────────────────────┼───────────────────┼────────────┼───────────────────┤\n",
       "│ z_mean (<span style=\"color: #0087ff; text-decoration-color: #0087ff\">Dense</span>)      │ (<span style=\"color: #00d7ff; text-decoration-color: #00d7ff\">None</span>, <span style=\"color: #00af00; text-decoration-color: #00af00\">2</span>)         │        <span style=\"color: #00af00; text-decoration-color: #00af00\">514</span> │ sequential[<span style=\"color: #00af00; text-decoration-color: #00af00\">0</span>][<span style=\"color: #00af00; text-decoration-color: #00af00\">0</span>]  │\n",
       "├─────────────────────┼───────────────────┼────────────┼───────────────────┤\n",
       "│ z_log_var (<span style=\"color: #0087ff; text-decoration-color: #0087ff\">Dense</span>)   │ (<span style=\"color: #00d7ff; text-decoration-color: #00d7ff\">None</span>, <span style=\"color: #00af00; text-decoration-color: #00af00\">2</span>)         │        <span style=\"color: #00af00; text-decoration-color: #00af00\">514</span> │ sequential[<span style=\"color: #00af00; text-decoration-color: #00af00\">0</span>][<span style=\"color: #00af00; text-decoration-color: #00af00\">0</span>]  │\n",
       "├─────────────────────┼───────────────────┼────────────┼───────────────────┤\n",
       "│ sampling_layer      │ (<span style=\"color: #00d7ff; text-decoration-color: #00d7ff\">None</span>, <span style=\"color: #00af00; text-decoration-color: #00af00\">2</span>)         │          <span style=\"color: #00af00; text-decoration-color: #00af00\">0</span> │ z_mean[<span style=\"color: #00af00; text-decoration-color: #00af00\">0</span>][<span style=\"color: #00af00; text-decoration-color: #00af00\">0</span>],     │\n",
       "│ (<span style=\"color: #0087ff; text-decoration-color: #0087ff\">SamplingLayer</span>)     │                   │            │ z_log_var[<span style=\"color: #00af00; text-decoration-color: #00af00\">0</span>][<span style=\"color: #00af00; text-decoration-color: #00af00\">0</span>]   │\n",
       "└─────────────────────┴───────────────────┴────────────┴───────────────────┘\n",
       "</pre>\n"
      ],
      "text/plain": [
       "┏━━━━━━━━━━━━━━━━━━━━━┳━━━━━━━━━━━━━━━━━━━┳━━━━━━━━━━━━┳━━━━━━━━━━━━━━━━━━━┓\n",
       "┃\u001b[1m \u001b[0m\u001b[1mLayer (type)       \u001b[0m\u001b[1m \u001b[0m┃\u001b[1m \u001b[0m\u001b[1mOutput Shape     \u001b[0m\u001b[1m \u001b[0m┃\u001b[1m \u001b[0m\u001b[1m   Param #\u001b[0m\u001b[1m \u001b[0m┃\u001b[1m \u001b[0m\u001b[1mConnected to     \u001b[0m\u001b[1m \u001b[0m┃\n",
       "┡━━━━━━━━━━━━━━━━━━━━━╇━━━━━━━━━━━━━━━━━━━╇━━━━━━━━━━━━╇━━━━━━━━━━━━━━━━━━━┩\n",
       "│ input_layer         │ (\u001b[38;5;45mNone\u001b[0m, \u001b[38;5;34m28\u001b[0m, \u001b[38;5;34m28\u001b[0m, \u001b[38;5;34m1\u001b[0m) │          \u001b[38;5;34m0\u001b[0m │ -                 │\n",
       "│ (\u001b[38;5;33mInputLayer\u001b[0m)        │                   │            │                   │\n",
       "├─────────────────────┼───────────────────┼────────────┼───────────────────┤\n",
       "│ sequential          │ (\u001b[38;5;45mNone\u001b[0m, \u001b[38;5;34m256\u001b[0m)       │    \u001b[38;5;34m878,144\u001b[0m │ input_layer[\u001b[38;5;34m0\u001b[0m][\u001b[38;5;34m0\u001b[0m] │\n",
       "│ (\u001b[38;5;33mSequential\u001b[0m)        │                   │            │                   │\n",
       "├─────────────────────┼───────────────────┼────────────┼───────────────────┤\n",
       "│ z_mean (\u001b[38;5;33mDense\u001b[0m)      │ (\u001b[38;5;45mNone\u001b[0m, \u001b[38;5;34m2\u001b[0m)         │        \u001b[38;5;34m514\u001b[0m │ sequential[\u001b[38;5;34m0\u001b[0m][\u001b[38;5;34m0\u001b[0m]  │\n",
       "├─────────────────────┼───────────────────┼────────────┼───────────────────┤\n",
       "│ z_log_var (\u001b[38;5;33mDense\u001b[0m)   │ (\u001b[38;5;45mNone\u001b[0m, \u001b[38;5;34m2\u001b[0m)         │        \u001b[38;5;34m514\u001b[0m │ sequential[\u001b[38;5;34m0\u001b[0m][\u001b[38;5;34m0\u001b[0m]  │\n",
       "├─────────────────────┼───────────────────┼────────────┼───────────────────┤\n",
       "│ sampling_layer      │ (\u001b[38;5;45mNone\u001b[0m, \u001b[38;5;34m2\u001b[0m)         │          \u001b[38;5;34m0\u001b[0m │ z_mean[\u001b[38;5;34m0\u001b[0m][\u001b[38;5;34m0\u001b[0m],     │\n",
       "│ (\u001b[38;5;33mSamplingLayer\u001b[0m)     │                   │            │ z_log_var[\u001b[38;5;34m0\u001b[0m][\u001b[38;5;34m0\u001b[0m]   │\n",
       "└─────────────────────┴───────────────────┴────────────┴───────────────────┘\n"
      ]
     },
     "metadata": {},
     "output_type": "display_data"
    },
    {
     "data": {
      "text/html": [
       "<pre style=\"white-space:pre;overflow-x:auto;line-height:normal;font-family:Menlo,'DejaVu Sans Mono',consolas,'Courier New',monospace\"><span style=\"font-weight: bold\"> Total params: </span><span style=\"color: #00af00; text-decoration-color: #00af00\">879,172</span> (3.35 MB)\n",
       "</pre>\n"
      ],
      "text/plain": [
       "\u001b[1m Total params: \u001b[0m\u001b[38;5;34m879,172\u001b[0m (3.35 MB)\n"
      ]
     },
     "metadata": {},
     "output_type": "display_data"
    },
    {
     "data": {
      "text/html": [
       "<pre style=\"white-space:pre;overflow-x:auto;line-height:normal;font-family:Menlo,'DejaVu Sans Mono',consolas,'Courier New',monospace\"><span style=\"font-weight: bold\"> Trainable params: </span><span style=\"color: #00af00; text-decoration-color: #00af00\">879,172</span> (3.35 MB)\n",
       "</pre>\n"
      ],
      "text/plain": [
       "\u001b[1m Trainable params: \u001b[0m\u001b[38;5;34m879,172\u001b[0m (3.35 MB)\n"
      ]
     },
     "metadata": {},
     "output_type": "display_data"
    },
    {
     "data": {
      "text/html": [
       "<pre style=\"white-space:pre;overflow-x:auto;line-height:normal;font-family:Menlo,'DejaVu Sans Mono',consolas,'Courier New',monospace\"><span style=\"font-weight: bold\"> Non-trainable params: </span><span style=\"color: #00af00; text-decoration-color: #00af00\">0</span> (0.00 B)\n",
       "</pre>\n"
      ],
      "text/plain": [
       "\u001b[1m Non-trainable params: \u001b[0m\u001b[38;5;34m0\u001b[0m (0.00 B)\n"
      ]
     },
     "metadata": {},
     "output_type": "display_data"
    }
   ],
   "source": [
    "#A função constrói o codificador de um Autoencoder Variacional.\n",
    "#Ela recebe imagens de entrada e as mapeia para um espaço latente probabilístico,\n",
    "#Definido por uma média (z_mean) e o logaritmo da variância (z_log_var).\n",
    "#A partir dessa distribuição, uma amostra (z) é gerada.\n",
    "\n",
    "\n",
    "def buildEncoder(latentDim, encoderInputs):\n",
    "  l1 = keras.models.Sequential([\n",
    "    layers.Conv2D(128, 3, activation=\"relu\", strides=2, padding=\"same\"),\n",
    "    layers.Conv2D(64, 3, activation=\"relu\", strides=2, padding=\"same\"),\n",
    "    layers.Flatten(),\n",
    "    layers.Dense(256, activation=\"relu\")\n",
    "  ])\n",
    "\n",
    "  x = l1(encoderInputs)\n",
    "  \n",
    "  zMean = layers.Dense(latentDim, name=\"z_mean\")(x)\n",
    "  \n",
    "  zLogVar = layers.Dense(latentDim, name=\"z_log_var\")(x)\n",
    "  \n",
    "  z = SamplingLayer()([zMean, zLogVar])\n",
    "  \n",
    "  return keras.Model(encoderInputs, [zMean, zLogVar, z], name=\"encoder\")\n",
    "\n",
    "encoderInputs = keras.Input(shape=(28, 28, 1))\n",
    "encoder = buildEncoder(2, encoderInputs)\n",
    "encoder.summary()"
   ]
  },
  {
   "cell_type": "code",
   "execution_count": 8,
   "id": "d82a58d1-b06e-4439-aec6-da7073b8c222",
   "metadata": {},
   "outputs": [
    {
     "name": "stderr",
     "output_type": "stream",
     "text": [
      "/home/lucas/anaconda3/envs/tf_gpu_pip/lib/python3.10/site-packages/keras/src/layers/core/dense.py:92: UserWarning: Do not pass an `input_shape`/`input_dim` argument to a layer. When using Sequential models, prefer using an `Input(shape)` object as the first layer in the model instead.\n",
      "  super().__init__(activity_regularizer=activity_regularizer, **kwargs)\n"
     ]
    },
    {
     "data": {
      "text/html": [
       "<pre style=\"white-space:pre;overflow-x:auto;line-height:normal;font-family:Menlo,'DejaVu Sans Mono',consolas,'Courier New',monospace\"><span style=\"font-weight: bold\">Model: \"decoder\"</span>\n",
       "</pre>\n"
      ],
      "text/plain": [
       "\u001b[1mModel: \"decoder\"\u001b[0m\n"
      ]
     },
     "metadata": {},
     "output_type": "display_data"
    },
    {
     "data": {
      "text/html": [
       "<pre style=\"white-space:pre;overflow-x:auto;line-height:normal;font-family:Menlo,'DejaVu Sans Mono',consolas,'Courier New',monospace\">┏━━━━━━━━━━━━━━━━━━━━━━━━━━━━━━━━━┳━━━━━━━━━━━━━━━━━━━━━━━━┳━━━━━━━━━━━━━━━┓\n",
       "┃<span style=\"font-weight: bold\"> Layer (type)                    </span>┃<span style=\"font-weight: bold\"> Output Shape           </span>┃<span style=\"font-weight: bold\">       Param # </span>┃\n",
       "┡━━━━━━━━━━━━━━━━━━━━━━━━━━━━━━━━━╇━━━━━━━━━━━━━━━━━━━━━━━━╇━━━━━━━━━━━━━━━┩\n",
       "│ input_layer_2 (<span style=\"color: #0087ff; text-decoration-color: #0087ff\">InputLayer</span>)      │ (<span style=\"color: #00d7ff; text-decoration-color: #00d7ff\">None</span>, <span style=\"color: #00af00; text-decoration-color: #00af00\">2</span>)              │             <span style=\"color: #00af00; text-decoration-color: #00af00\">0</span> │\n",
       "├─────────────────────────────────┼────────────────────────┼───────────────┤\n",
       "│ sequential_1 (<span style=\"color: #0087ff; text-decoration-color: #0087ff\">Sequential</span>)       │ (<span style=\"color: #00d7ff; text-decoration-color: #00d7ff\">None</span>, <span style=\"color: #00af00; text-decoration-color: #00af00\">28</span>, <span style=\"color: #00af00; text-decoration-color: #00af00\">28</span>, <span style=\"color: #00af00; text-decoration-color: #00af00\">1</span>)      │       <span style=\"color: #00af00; text-decoration-color: #00af00\">157,633</span> │\n",
       "└─────────────────────────────────┴────────────────────────┴───────────────┘\n",
       "</pre>\n"
      ],
      "text/plain": [
       "┏━━━━━━━━━━━━━━━━━━━━━━━━━━━━━━━━━┳━━━━━━━━━━━━━━━━━━━━━━━━┳━━━━━━━━━━━━━━━┓\n",
       "┃\u001b[1m \u001b[0m\u001b[1mLayer (type)                   \u001b[0m\u001b[1m \u001b[0m┃\u001b[1m \u001b[0m\u001b[1mOutput Shape          \u001b[0m\u001b[1m \u001b[0m┃\u001b[1m \u001b[0m\u001b[1m      Param #\u001b[0m\u001b[1m \u001b[0m┃\n",
       "┡━━━━━━━━━━━━━━━━━━━━━━━━━━━━━━━━━╇━━━━━━━━━━━━━━━━━━━━━━━━╇━━━━━━━━━━━━━━━┩\n",
       "│ input_layer_2 (\u001b[38;5;33mInputLayer\u001b[0m)      │ (\u001b[38;5;45mNone\u001b[0m, \u001b[38;5;34m2\u001b[0m)              │             \u001b[38;5;34m0\u001b[0m │\n",
       "├─────────────────────────────────┼────────────────────────┼───────────────┤\n",
       "│ sequential_1 (\u001b[38;5;33mSequential\u001b[0m)       │ (\u001b[38;5;45mNone\u001b[0m, \u001b[38;5;34m28\u001b[0m, \u001b[38;5;34m28\u001b[0m, \u001b[38;5;34m1\u001b[0m)      │       \u001b[38;5;34m157,633\u001b[0m │\n",
       "└─────────────────────────────────┴────────────────────────┴───────────────┘\n"
      ]
     },
     "metadata": {},
     "output_type": "display_data"
    },
    {
     "data": {
      "text/html": [
       "<pre style=\"white-space:pre;overflow-x:auto;line-height:normal;font-family:Menlo,'DejaVu Sans Mono',consolas,'Courier New',monospace\"><span style=\"font-weight: bold\"> Total params: </span><span style=\"color: #00af00; text-decoration-color: #00af00\">157,633</span> (615.75 KB)\n",
       "</pre>\n"
      ],
      "text/plain": [
       "\u001b[1m Total params: \u001b[0m\u001b[38;5;34m157,633\u001b[0m (615.75 KB)\n"
      ]
     },
     "metadata": {},
     "output_type": "display_data"
    },
    {
     "data": {
      "text/html": [
       "<pre style=\"white-space:pre;overflow-x:auto;line-height:normal;font-family:Menlo,'DejaVu Sans Mono',consolas,'Courier New',monospace\"><span style=\"font-weight: bold\"> Trainable params: </span><span style=\"color: #00af00; text-decoration-color: #00af00\">157,633</span> (615.75 KB)\n",
       "</pre>\n"
      ],
      "text/plain": [
       "\u001b[1m Trainable params: \u001b[0m\u001b[38;5;34m157,633\u001b[0m (615.75 KB)\n"
      ]
     },
     "metadata": {},
     "output_type": "display_data"
    },
    {
     "data": {
      "text/html": [
       "<pre style=\"white-space:pre;overflow-x:auto;line-height:normal;font-family:Menlo,'DejaVu Sans Mono',consolas,'Courier New',monospace\"><span style=\"font-weight: bold\"> Non-trainable params: </span><span style=\"color: #00af00; text-decoration-color: #00af00\">0</span> (0.00 B)\n",
       "</pre>\n"
      ],
      "text/plain": [
       "\u001b[1m Non-trainable params: \u001b[0m\u001b[38;5;34m0\u001b[0m (0.00 B)\n"
      ]
     },
     "metadata": {},
     "output_type": "display_data"
    }
   ],
   "source": [
    "#A função cria o decodificador passando por uma rede neural, que transforma de um vetor latente para de volta em um imagem\n",
    "def buildDecoder(latentInputs):\n",
    "\n",
    "  l1 = keras.models.Sequential([\n",
    "    layers.Dense(7*7*64, activation=\"relu\", input_shape=(latentInputs.shape[1],)),\n",
    "    layers.Reshape((7,7,64)),\n",
    "    layers.Conv2DTranspose(128, 3, activation=\"relu\", strides=2, padding=\"same\"),\n",
    "    layers.Conv2DTranspose(64, 3, activation=\"relu\", strides=2, padding=\"same\"),\n",
    "    layers.Conv2DTranspose(1, 3, activation=\"sigmoid\", padding=\"same\")\n",
    "  ])\n",
    "\n",
    "  return keras.Model(latentInputs, l1(latentInputs), name=\"decoder\")\n",
    "\n",
    "# build the actual model\n",
    "latentInputs = keras.Input(shape=(2,))\n",
    "decoder = buildDecoder(latentInputs)\n",
    "decoder.summary()"
   ]
  },
  {
   "cell_type": "code",
   "execution_count": 9,
   "id": "ea77e37b-b348-4e4c-a6ca-62c8b4160c15",
   "metadata": {},
   "outputs": [],
   "source": [
    "#Uma das funções de perda que vai penalizar imagens que não estão similares as originais\n",
    "def reconstructionLoss(data, reconstructed):\n",
    "  return tf.reduce_mean(\n",
    "      tf.reduce_sum(\n",
    "          keras.losses.binary_crossentropy(data, reconstructed),\n",
    "          axis=(1, 2)\n",
    "      )\n",
    "  )"
   ]
  },
  {
   "cell_type": "code",
   "execution_count": 10,
   "id": "d1278e5f-11e9-4160-bbcb-1120dedde23a",
   "metadata": {},
   "outputs": [],
   "source": [
    "#Outra função de perda que penaliza se o modelo aprender uma distribuição de probabilidade z que seja diferente da distribuição original dos dados X\n",
    "def klDivergenceLoss(zMean, zLogVar):\n",
    "  return tf.reduce_mean(\n",
    "      tf.reduce_sum(\n",
    "          -0.5 * (1 + zLogVar - tf.square(zMean) - tf.exp(zLogVar)),\n",
    "          axis=1\n",
    "      )\n",
    "  )"
   ]
  },
  {
   "cell_type": "code",
   "execution_count": 11,
   "id": "2bbf0746-981e-472d-9848-1bde16eb08fb",
   "metadata": {},
   "outputs": [],
   "source": [
    "#Junta as duas funções\n",
    "def calcTotalLoss(data, reconstructed, zMean, zLogVar):\n",
    "  loss1 = reconstructionLoss(data, reconstructed)\n",
    "  loss2 = klDivergenceLoss(zMean, zLogVar)\n",
    "  klWeight = 3.0\n",
    "  return  loss1, loss2, loss1 + klWeight * loss2"
   ]
  },
  {
   "cell_type": "markdown",
   "id": "9c568366-2335-4054-8f68-bf8b7ef9d61e",
   "metadata": {},
   "source": [
    "### Cria uma classe chamada VAE que tem como atributos o encoder o decoder e as funções de loss.\n",
    "### Cria as funções de treino para calcular o gradiente e ajustar os pesos"
   ]
  },
  {
   "cell_type": "code",
   "execution_count": 12,
   "id": "ad63d193-20fd-42da-a609-e6f375633adc",
   "metadata": {},
   "outputs": [],
   "source": [
    "class VAE(keras.Model):\n",
    "  def __init__(self, encoder, decoder, **kwargs):\n",
    "    super(VAE, self).__init__(**kwargs)\n",
    "    self.encoder = encoder\n",
    "    self.decoder = decoder\n",
    "    # register total loss as an observable metric in the model training history\n",
    "    self.totalLossTracker = keras.metrics.Mean(name=\"total_loss\")\n",
    "    self.ceLossTracker = keras.metrics.Mean(name=\"ce_loss\")\n",
    "    self.klLossTracker = keras.metrics.Mean(name=\"kl_loss\")\n",
    "    \n",
    "  # This are all observable metrics \n",
    "  @property\n",
    "  def metrics(self):\n",
    "    return [\n",
    "        self.totalLossTracker,\n",
    "        self.ceLossTracker,\n",
    "        self.klLossTracker\n",
    "    ]\n",
    "\n",
    "  # Now calculate loss + calculate gradients + update weights\n",
    "  def train_step(self, data):\n",
    "    # Gradient tape is a recording of all gradients for the trainable \n",
    "    # weights that need to be updated\n",
    "    with tf.GradientTape() as tape:\n",
    "        # forward path\n",
    "        zMean, zLogVar, z = self.encoder(data)\n",
    "        reconstruction = self.decoder(z)\n",
    "        ceLoss, klLoss, totalLoss = calcTotalLoss(data, reconstruction, zMean, zLogVar)\n",
    "    # backward path\n",
    "    grads = tape.gradient(totalLoss, self.trainable_weights)\n",
    "    self.optimizer.apply_gradients(zip(grads, self.trainable_weights))\n",
    "\n",
    "    # keep track of loss\n",
    "    self.totalLossTracker.update_state(totalLoss)\n",
    "    self.ceLossTracker.update_state(ceLoss)\n",
    "    self.klLossTracker.update_state(klLoss)\n",
    "\n",
    "    # return the loss for history object\n",
    "    return {\n",
    "        \"total_loss\": self.totalLossTracker.result(),\n",
    "        \"ce_loss\": self.ceLossTracker.result(),\n",
    "        \"kl_loss\": self.klLossTracker.result()\n",
    "    }"
   ]
  },
  {
   "cell_type": "markdown",
   "id": "11edc1d3-c5f0-4ea5-90bd-27bf908252f8",
   "metadata": {},
   "source": [
    "Treinamento do modelo com o otimizador ADAM"
   ]
  },
  {
   "cell_type": "code",
   "execution_count": null,
   "id": "103df586-3340-4b06-8a83-da012672c1e4",
   "metadata": {},
   "outputs": [
    {
     "name": "stdout",
     "output_type": "stream",
     "text": [
      "Epoch 1/32\n"
     ]
    },
    {
     "name": "stderr",
     "output_type": "stream",
     "text": [
      "2025-09-13 18:42:20.255731: I external/local_xla/xla/service/service.cc:163] XLA service 0x62ffe75dfbc0 initialized for platform CUDA (this does not guarantee that XLA will be used). Devices:\n",
      "2025-09-13 18:42:20.255745: I external/local_xla/xla/service/service.cc:171]   StreamExecutor device (0): NVIDIA GeForce RTX 3050 6GB Laptop GPU, Compute Capability 8.6\n",
      "2025-09-13 18:42:20.296725: I tensorflow/compiler/mlir/tensorflow/utils/dump_mlir_util.cc:269] disabling MLIR crash reproducer, set env var `MLIR_CRASH_REPRODUCER_DIRECTORY` to enable.\n",
      "2025-09-13 18:42:20.604234: I external/local_xla/xla/stream_executor/cuda/cuda_dnn.cc:473] Loaded cuDNN version 91300\n",
      "2025-09-13 18:42:21.466208: I external/local_xla/xla/stream_executor/cuda/subprocess_compilation.cc:346] ptxas warning : Registers are spilled to local memory in function 'gemm_fusion_dot', 12 bytes spill stores, 12 bytes spill loads\n",
      "\n",
      "2025-09-13 18:42:21.778646: I external/local_xla/xla/stream_executor/cuda/subprocess_compilation.cc:346] ptxas warning : Registers are spilled to local memory in function 'gemm_fusion_dot_744', 104 bytes spill stores, 104 bytes spill loads\n",
      "\n",
      "2025-09-13 18:42:21.825613: I external/local_xla/xla/stream_executor/cuda/subprocess_compilation.cc:346] ptxas warning : Registers are spilled to local memory in function 'gemm_fusion_dot_744', 244 bytes spill stores, 244 bytes spill loads\n",
      "\n"
     ]
    },
    {
     "name": "stdout",
     "output_type": "stream",
     "text": [
      "\u001b[1m 12/547\u001b[0m \u001b[37m━━━━━━━━━━━━━━━━━━━━\u001b[0m \u001b[1m8s\u001b[0m 16ms/step - ce_loss: 532.6516 - kl_loss: 0.0676 - total_loss: 532.8543"
     ]
    },
    {
     "name": "stderr",
     "output_type": "stream",
     "text": [
      "I0000 00:00:1757799746.058296    6364 device_compiler.h:196] Compiled cluster using XLA!  This line is logged at most once for the lifetime of the process.\n"
     ]
    },
    {
     "name": "stdout",
     "output_type": "stream",
     "text": [
      "\u001b[1m546/547\u001b[0m \u001b[32m━━━━━━━━━━━━━━━━━━━\u001b[0m\u001b[37m━\u001b[0m \u001b[1m0s\u001b[0m 16ms/step - ce_loss: 345.5011 - kl_loss: 2.9862 - total_loss: 354.4597"
     ]
    },
    {
     "name": "stderr",
     "output_type": "stream",
     "text": [
      "2025-09-13 18:42:35.523463: I external/local_xla/xla/stream_executor/cuda/subprocess_compilation.cc:346] ptxas warning : Registers are spilled to local memory in function 'gemm_fusion_dot_734', 12 bytes spill stores, 12 bytes spill loads\n",
      "\n",
      "2025-09-13 18:42:35.651936: I external/local_xla/xla/stream_executor/cuda/subprocess_compilation.cc:346] ptxas warning : Registers are spilled to local memory in function 'gemm_fusion_dot_734', 12 bytes spill stores, 12 bytes spill loads\n",
      "\n",
      "2025-09-13 18:42:36.043586: I external/local_xla/xla/stream_executor/cuda/subprocess_compilation.cc:346] ptxas warning : Registers are spilled to local memory in function 'gemm_fusion_dot_744', 84 bytes spill stores, 84 bytes spill loads\n",
      "\n"
     ]
    },
    {
     "name": "stdout",
     "output_type": "stream",
     "text": [
      "\u001b[1m547/547\u001b[0m \u001b[32m━━━━━━━━━━━━━━━━━━━━\u001b[0m\u001b[37m\u001b[0m \u001b[1m21s\u001b[0m 26ms/step - ce_loss: 299.5279 - kl_loss: 3.9123 - total_loss: 311.2645\n",
      "Epoch 2/32\n",
      "\u001b[1m547/547\u001b[0m \u001b[32m━━━━━━━━━━━━━━━━━━━━\u001b[0m\u001b[37m\u001b[0m \u001b[1m8s\u001b[0m 15ms/step - ce_loss: 264.0023 - kl_loss: 4.7452 - total_loss: 278.2379\n",
      "Epoch 3/32\n",
      "\u001b[1m547/547\u001b[0m \u001b[32m━━━━━━━━━━━━━━━━━━━━\u001b[0m\u001b[37m\u001b[0m \u001b[1m9s\u001b[0m 16ms/step - ce_loss: 260.6611 - kl_loss: 4.8548 - total_loss: 275.2255\n",
      "Epoch 4/32\n",
      "\u001b[1m547/547\u001b[0m \u001b[32m━━━━━━━━━━━━━━━━━━━━\u001b[0m\u001b[37m\u001b[0m \u001b[1m9s\u001b[0m 16ms/step - ce_loss: 259.1165 - kl_loss: 4.9099 - total_loss: 273.8461\n",
      "Epoch 5/32\n",
      "\u001b[1m547/547\u001b[0m \u001b[32m━━━━━━━━━━━━━━━━━━━━\u001b[0m\u001b[37m\u001b[0m \u001b[1m9s\u001b[0m 16ms/step - ce_loss: 257.9966 - kl_loss: 4.9500 - total_loss: 272.8466\n",
      "Epoch 6/32\n",
      "\u001b[1m547/547\u001b[0m \u001b[32m━━━━━━━━━━━━━━━━━━━━\u001b[0m\u001b[37m\u001b[0m \u001b[1m8s\u001b[0m 15ms/step - ce_loss: 257.0623 - kl_loss: 4.9869 - total_loss: 272.0231\n",
      "Epoch 7/32\n",
      "\u001b[1m547/547\u001b[0m \u001b[32m━━━━━━━━━━━━━━━━━━━━\u001b[0m\u001b[37m\u001b[0m \u001b[1m9s\u001b[0m 16ms/step - ce_loss: 256.3678 - kl_loss: 5.0206 - total_loss: 271.4296\n",
      "Epoch 8/32\n",
      "\u001b[1m547/547\u001b[0m \u001b[32m━━━━━━━━━━━━━━━━━━━━\u001b[0m\u001b[37m\u001b[0m \u001b[1m9s\u001b[0m 16ms/step - ce_loss: 255.6814 - kl_loss: 5.0441 - total_loss: 270.8135\n",
      "Epoch 9/32\n",
      "\u001b[1m547/547\u001b[0m \u001b[32m━━━━━━━━━━━━━━━━━━━━\u001b[0m\u001b[37m\u001b[0m \u001b[1m9s\u001b[0m 17ms/step - ce_loss: 255.1396 - kl_loss: 5.0810 - total_loss: 270.3827\n",
      "Epoch 10/32\n",
      "\u001b[1m547/547\u001b[0m \u001b[32m━━━━━━━━━━━━━━━━━━━━\u001b[0m\u001b[37m\u001b[0m \u001b[1m9s\u001b[0m 16ms/step - ce_loss: 254.6091 - kl_loss: 5.1171 - total_loss: 269.9604\n",
      "Epoch 11/32\n",
      "\u001b[1m547/547\u001b[0m \u001b[32m━━━━━━━━━━━━━━━━━━━━\u001b[0m\u001b[37m\u001b[0m \u001b[1m9s\u001b[0m 16ms/step - ce_loss: 254.4482 - kl_loss: 5.1142 - total_loss: 269.7906\n",
      "Epoch 12/32\n",
      "\u001b[1m547/547\u001b[0m \u001b[32m━━━━━━━━━━━━━━━━━━━━\u001b[0m\u001b[37m\u001b[0m \u001b[1m9s\u001b[0m 16ms/step - ce_loss: 253.7408 - kl_loss: 5.1344 - total_loss: 269.1441\n",
      "Epoch 13/32\n",
      "\u001b[1m547/547\u001b[0m \u001b[32m━━━━━━━━━━━━━━━━━━━━\u001b[0m\u001b[37m\u001b[0m \u001b[1m9s\u001b[0m 17ms/step - ce_loss: 253.4186 - kl_loss: 5.1473 - total_loss: 268.8605\n",
      "Epoch 14/32\n",
      "\u001b[1m547/547\u001b[0m \u001b[32m━━━━━━━━━━━━━━━━━━━━\u001b[0m\u001b[37m\u001b[0m \u001b[1m9s\u001b[0m 17ms/step - ce_loss: 253.0705 - kl_loss: 5.1768 - total_loss: 268.6011\n",
      "Epoch 15/32\n",
      "\u001b[1m547/547\u001b[0m \u001b[32m━━━━━━━━━━━━━━━━━━━━\u001b[0m\u001b[37m\u001b[0m \u001b[1m9s\u001b[0m 16ms/step - ce_loss: 252.8039 - kl_loss: 5.1785 - total_loss: 268.3394\n",
      "Epoch 16/32\n",
      "\u001b[1m547/547\u001b[0m \u001b[32m━━━━━━━━━━━━━━━━━━━━\u001b[0m\u001b[37m\u001b[0m \u001b[1m9s\u001b[0m 16ms/step - ce_loss: 252.6257 - kl_loss: 5.1890 - total_loss: 268.1929\n",
      "Epoch 17/32\n",
      "\u001b[1m547/547\u001b[0m \u001b[32m━━━━━━━━━━━━━━━━━━━━\u001b[0m\u001b[37m\u001b[0m \u001b[1m9s\u001b[0m 16ms/step - ce_loss: 252.2144 - kl_loss: 5.2130 - total_loss: 267.8536\n",
      "Epoch 18/32\n",
      "\u001b[1m547/547\u001b[0m \u001b[32m━━━━━━━━━━━━━━━━━━━━\u001b[0m\u001b[37m\u001b[0m \u001b[1m9s\u001b[0m 16ms/step - ce_loss: 252.0764 - kl_loss: 5.2132 - total_loss: 267.7159\n",
      "Epoch 19/32\n",
      "\u001b[1m547/547\u001b[0m \u001b[32m━━━━━━━━━━━━━━━━━━━━\u001b[0m\u001b[37m\u001b[0m \u001b[1m9s\u001b[0m 16ms/step - ce_loss: 251.9401 - kl_loss: 5.2221 - total_loss: 267.6064\n",
      "Epoch 20/32\n",
      "\u001b[1m547/547\u001b[0m \u001b[32m━━━━━━━━━━━━━━━━━━━━\u001b[0m\u001b[37m\u001b[0m \u001b[1m9s\u001b[0m 16ms/step - ce_loss: 251.5906 - kl_loss: 5.2321 - total_loss: 267.2868\n",
      "Epoch 21/32\n",
      "\u001b[1m547/547\u001b[0m \u001b[32m━━━━━━━━━━━━━━━━━━━━\u001b[0m\u001b[37m\u001b[0m \u001b[1m9s\u001b[0m 16ms/step - ce_loss: 251.4662 - kl_loss: 5.2422 - total_loss: 267.1928\n",
      "Epoch 22/32\n",
      "\u001b[1m547/547\u001b[0m \u001b[32m━━━━━━━━━━━━━━━━━━━━\u001b[0m\u001b[37m\u001b[0m \u001b[1m9s\u001b[0m 16ms/step - ce_loss: 251.3125 - kl_loss: 5.2313 - total_loss: 267.0063\n",
      "Epoch 23/32\n",
      "\u001b[1m547/547\u001b[0m \u001b[32m━━━━━━━━━━━━━━━━━━━━\u001b[0m\u001b[37m\u001b[0m \u001b[1m9s\u001b[0m 16ms/step - ce_loss: 251.1974 - kl_loss: 5.2422 - total_loss: 266.9239\n",
      "Epoch 24/32\n",
      "\u001b[1m547/547\u001b[0m \u001b[32m━━━━━━━━━━━━━━━━━━━━\u001b[0m\u001b[37m\u001b[0m \u001b[1m8s\u001b[0m 15ms/step - ce_loss: 250.9849 - kl_loss: 5.2477 - total_loss: 266.7281\n",
      "Epoch 25/32\n",
      "\u001b[1m547/547\u001b[0m \u001b[32m━━━━━━━━━━━━━━━━━━━━\u001b[0m\u001b[37m\u001b[0m \u001b[1m9s\u001b[0m 16ms/step - ce_loss: 250.8155 - kl_loss: 5.2537 - total_loss: 266.5766\n",
      "Epoch 26/32\n",
      "\u001b[1m547/547\u001b[0m \u001b[32m━━━━━━━━━━━━━━━━━━━━\u001b[0m\u001b[37m\u001b[0m \u001b[1m9s\u001b[0m 16ms/step - ce_loss: 250.6338 - kl_loss: 5.2597 - total_loss: 266.4125\n",
      "Epoch 27/32\n",
      "\u001b[1m547/547\u001b[0m \u001b[32m━━━━━━━━━━━━━━━━━━━━\u001b[0m\u001b[37m\u001b[0m \u001b[1m8s\u001b[0m 15ms/step - ce_loss: 250.6456 - kl_loss: 5.2560 - total_loss: 266.4136\n",
      "Epoch 28/32\n",
      "\u001b[1m547/547\u001b[0m \u001b[32m━━━━━━━━━━━━━━━━━━━━\u001b[0m\u001b[37m\u001b[0m \u001b[1m8s\u001b[0m 15ms/step - ce_loss: 250.3872 - kl_loss: 5.2742 - total_loss: 266.2099\n",
      "Epoch 29/32\n",
      "\u001b[1m547/547\u001b[0m \u001b[32m━━━━━━━━━━━━━━━━━━━━\u001b[0m\u001b[37m\u001b[0m \u001b[1m8s\u001b[0m 15ms/step - ce_loss: 250.2603 - kl_loss: 5.2736 - total_loss: 266.0812\n",
      "Epoch 30/32\n",
      "\u001b[1m547/547\u001b[0m \u001b[32m━━━━━━━━━━━━━━━━━━━━\u001b[0m\u001b[37m\u001b[0m \u001b[1m8s\u001b[0m 15ms/step - ce_loss: 250.1723 - kl_loss: 5.2786 - total_loss: 266.0083\n",
      "Epoch 31/32\n",
      "\u001b[1m547/547\u001b[0m \u001b[32m━━━━━━━━━━━━━━━━━━━━\u001b[0m\u001b[37m\u001b[0m \u001b[1m8s\u001b[0m 15ms/step - ce_loss: 249.9587 - kl_loss: 5.2797 - total_loss: 265.7976\n",
      "Epoch 32/32\n",
      "\u001b[1m297/547\u001b[0m \u001b[32m━━━━━━━━━━\u001b[0m\u001b[37m━━━━━━━━━━\u001b[0m \u001b[1m3s\u001b[0m 16ms/step - ce_loss: 248.8152 - kl_loss: 5.2829 - total_loss: 264.6639"
     ]
    }
   ],
   "source": [
    "vae = VAE(encoder, decoder)\n",
    "vae.compile(optimizer=keras.optimizers.Adam(learning_rate=0.001))\n",
    "history = vae.fit(dataset, epochs=32, batch_size=128)"
   ]
  },
  {
   "cell_type": "code",
   "execution_count": null,
   "id": "9bf814d2-0e03-4dac-af28-7d13bf5f7191",
   "metadata": {},
   "outputs": [],
   "source": [
    "#Visualização de cada erro durante as épocas\n",
    "plt.figure(figsize=(10, 9))\n",
    "plt.plot(history.history.get('total_loss'), label=\"total loss\")\n",
    "plt.plot(history.history.get('ce_loss'), label=\"reconstruction loss\")\n",
    "plt.plot(history.history.get('kl_loss'), label=\"KL loss\")\n",
    "plt.legend();"
   ]
  },
  {
   "cell_type": "code",
   "execution_count": null,
   "id": "ca35e331-2cc7-4170-ba28-b9cafc111383",
   "metadata": {},
   "outputs": [],
   "source": [
    "#Apenas o kl_loss para analisarmos melhor\n",
    "plt.figure(figsize=(10, 9))\n",
    "plt.plot(history.history.get('kl_loss'), label=\"KL loss\")\n",
    "plt.legend();"
   ]
  },
  {
   "cell_type": "code",
   "execution_count": null,
   "id": "93aa9225-f066-47df-9072-0674e22cae07",
   "metadata": {},
   "outputs": [],
   "source": [
    "synth = vae.decoder.predict([[1, 2]])\n",
    "plt.axis('off')\n",
    "plt.imshow(synth.reshape((28,28)), cmap=\"Greys_r\");"
   ]
  },
  {
   "cell_type": "code",
   "execution_count": null,
   "id": "fbb6dbf0-eccc-4f86-b278-2a67932a867f",
   "metadata": {},
   "outputs": [],
   "source": [
    "z = np.random.normal(loc=0, scale=4, size=(256,2))\n",
    "synth = vae.decoder.predict(z)\n",
    "\n",
    "plt.figure(figsize=(28,28))\n",
    "\n",
    "for i in range(256):\n",
    "    plt.subplot(16,16,i+1)\n",
    "    plt.imshow(synth[i].reshape((28,28)), cmap=\"Greys_r\")\n",
    "    plt.axis('off')\n",
    "\n",
    "plt.show();"
   ]
  },
  {
   "cell_type": "code",
   "execution_count": null,
   "id": "09df32bc-d4f7-44bc-982b-5ae413ebbef7",
   "metadata": {},
   "outputs": [],
   "source": [
    "idx = 1280\n",
    "batch = np.expand_dims(x_train[idx], axis=0)\n",
    "batchOfImages = np.expand_dims(batch, axis=-1).astype(\"float32\") / 255\n",
    "print(batchOfImages.shape)\n",
    "# obtain z(mu,sigma) for the given image\n",
    "_, _, z = vae.encoder.predict(batchOfImages)\n",
    "\n",
    "# now reconstruct a similar image\n",
    "synth = vae.decoder.predict([z])\n",
    "\n",
    "z"
   ]
  },
  {
   "cell_type": "code",
   "execution_count": null,
   "id": "967c1ba3-5ccb-41f1-84f8-da6596c96380",
   "metadata": {},
   "outputs": [],
   "source": [
    "plt.figure(figsize=(28, 28))\n",
    "\n",
    "# original image\n",
    "plt.subplot(1,2,1)\n",
    "plt.axis('off')\n",
    "plt.imshow(x_train[idx], cmap=\"Greys_r\")\n",
    "\n",
    "\n",
    "# reconstructed\n",
    "plt.subplot(1,2,2)\n",
    "plt.axis('off')\n",
    "plt.imshow(synth[0].reshape((28,28)), cmap=\"Greys_r\")\n",
    "plt.show();"
   ]
  },
  {
   "cell_type": "code",
   "execution_count": null,
   "id": "399c1909-ae5c-467c-84db-7142178e4437",
   "metadata": {},
   "outputs": [],
   "source": [
    "\"\"\"\n",
    "VAE can be used in unsupervised learning of large text or unlabeled images corpus\n",
    "to cluster the samples into categories\n",
    "\"\"\"\n",
    "labels = np.concatenate([y_train, y_test], axis=0)\n",
    "meu, _, _ = vae.encoder.predict(dataset)\n",
    "plt.figure(figsize=(12, 10))\n",
    "plt.scatter(meu[:, 0], meu[:, 1], c=labels)\n",
    "plt.colorbar()\n",
    "plt.xlabel(\"meu[0]\")\n",
    "plt.ylabel(\"meu[1]\")\n",
    "plt.show();"
   ]
  }
 ],
 "metadata": {
  "kernelspec": {
   "display_name": "Python (TensorFlow GPU via Pip)",
   "language": "python",
   "name": "tf_gpu_pip"
  },
  "language_info": {
   "codemirror_mode": {
    "name": "ipython",
    "version": 3
   },
   "file_extension": ".py",
   "mimetype": "text/x-python",
   "name": "python",
   "nbconvert_exporter": "python",
   "pygments_lexer": "ipython3",
   "version": "3.10.18"
  }
 },
 "nbformat": 4,
 "nbformat_minor": 5
}
